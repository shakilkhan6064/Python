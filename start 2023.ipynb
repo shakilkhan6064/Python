{
 "cells": [
  {
   "cell_type": "code",
   "execution_count": 17,
   "id": "00e39377",
   "metadata": {},
   "outputs": [],
   "source": [
    "name=\"shakil khan\""
   ]
  },
  {
   "cell_type": "code",
   "execution_count": 18,
   "id": "ac50a755",
   "metadata": {},
   "outputs": [
    {
     "name": "stdout",
     "output_type": "stream",
     "text": [
      "shakil khan\n"
     ]
    }
   ],
   "source": [
    "print(name)"
   ]
  },
  {
   "cell_type": "code",
   "execution_count": 19,
   "id": "14c56f96",
   "metadata": {},
   "outputs": [],
   "source": [
    "a=10\n",
    "b=20"
   ]
  },
  {
   "cell_type": "code",
   "execution_count": 20,
   "id": "47032a88",
   "metadata": {},
   "outputs": [],
   "source": [
    "mul=a*b"
   ]
  },
  {
   "cell_type": "code",
   "execution_count": 21,
   "id": "ed50c73f",
   "metadata": {},
   "outputs": [
    {
     "name": "stdout",
     "output_type": "stream",
     "text": [
      "200\n"
     ]
    }
   ],
   "source": [
    "print(mul)"
   ]
  },
  {
   "cell_type": "code",
   "execution_count": 22,
   "id": "7663a3b5",
   "metadata": {},
   "outputs": [],
   "source": [
    "sum=5+7"
   ]
  },
  {
   "cell_type": "code",
   "execution_count": 23,
   "id": "eb82a8d6",
   "metadata": {},
   "outputs": [
    {
     "name": "stdout",
     "output_type": "stream",
     "text": [
      "12\n"
     ]
    }
   ],
   "source": [
    "print(sum)"
   ]
  },
  {
   "cell_type": "code",
   "execution_count": 24,
   "id": "be2087ad",
   "metadata": {},
   "outputs": [],
   "source": [
    "av=a-b"
   ]
  },
  {
   "cell_type": "code",
   "execution_count": 27,
   "id": "4a18a477",
   "metadata": {},
   "outputs": [
    {
     "name": "stdout",
     "output_type": "stream",
     "text": [
      "-10\n"
     ]
    }
   ],
   "source": [
    "print(av)"
   ]
  },
  {
   "cell_type": "code",
   "execution_count": 30,
   "id": "a2b3172e",
   "metadata": {},
   "outputs": [],
   "source": [
    "div=a%b"
   ]
  },
  {
   "cell_type": "code",
   "execution_count": 31,
   "id": "464caa63",
   "metadata": {},
   "outputs": [
    {
     "name": "stdout",
     "output_type": "stream",
     "text": [
      "10\n"
     ]
    }
   ],
   "source": [
    "print(div)"
   ]
  },
  {
   "cell_type": "markdown",
   "id": "61056330",
   "metadata": {},
   "source": [
    "# start "
   ]
  },
  {
   "cell_type": "code",
   "execution_count": 32,
   "id": "5779e55f",
   "metadata": {},
   "outputs": [
    {
     "name": "stdout",
     "output_type": "stream",
     "text": [
      "ENTER Numbe of C 20\n",
      "Enter number of D 40\n"
     ]
    }
   ],
   "source": [
    "c=int(input(\"ENTER Numbe of C \"))\n",
    "d=int(input(\"Enter number of D \"))"
   ]
  },
  {
   "cell_type": "code",
   "execution_count": 33,
   "id": "910f5cf1",
   "metadata": {},
   "outputs": [],
   "source": [
    "sum=c+b\n",
    "div=c-d\n",
    "mul=c*d"
   ]
  },
  {
   "cell_type": "code",
   "execution_count": 46,
   "id": "7f258ff0",
   "metadata": {},
   "outputs": [
    {
     "name": "stdout",
     "output_type": "stream",
     "text": [
      "result total=  40\n",
      "result total=  10\n",
      "result total=  200\n"
     ]
    }
   ],
   "source": [
    "print(\"result total= \",sum)\n",
    "print(\"result total= \",div)\n",
    "print(\"result total= \",mul)\n"
   ]
  },
  {
   "cell_type": "code",
   "execution_count": 51,
   "id": "9d4772ad",
   "metadata": {},
   "outputs": [
    {
     "name": "stdout",
     "output_type": "stream",
     "text": [
      "d is big\n"
     ]
    }
   ],
   "source": [
    "if c>d:\n",
    "    \n",
    "  print(\"c is big\")\n",
    "else:\n",
    " print(\"d is big\")"
   ]
  },
  {
   "cell_type": "markdown",
   "id": "9f7531ac",
   "metadata": {},
   "source": [
    "# result"
   ]
  },
  {
   "cell_type": "code",
   "execution_count": null,
   "id": "d50c6dce",
   "metadata": {},
   "outputs": [],
   "source": []
  }
 ],
 "metadata": {
  "kernelspec": {
   "display_name": "Python 3 (ipykernel)",
   "language": "python",
   "name": "python3"
  },
  "language_info": {
   "codemirror_mode": {
    "name": "ipython",
    "version": 3
   },
   "file_extension": ".py",
   "mimetype": "text/x-python",
   "name": "python",
   "nbconvert_exporter": "python",
   "pygments_lexer": "ipython3",
   "version": "3.9.13"
  }
 },
 "nbformat": 4,
 "nbformat_minor": 5
}
