{
 "cells": [
  {
   "cell_type": "code",
   "execution_count": 21,
   "id": "9afdc447",
   "metadata": {},
   "outputs": [
    {
     "name": "stdout",
     "output_type": "stream",
     "text": [
      "[1, 5, 2, 7, 4, 10]\n",
      "[1, 20, 5, 2, 7, 4, 10]\n",
      "[1, 20, 2, 7, 4, 10]\n",
      "[1, 20, 2, 7, 4]\n",
      "False\n",
      "[1, 2, 4, 7, 20]\n",
      "[]\n"
     ]
    }
   ],
   "source": [
    "numbers=[1,5,2,7,4]\n",
    "numbers.append(10)\n",
    "print(numbers)\n",
    "numbers.insert(1,20)\n",
    "print(numbers)\n",
    "numbers.remove(5)\n",
    "print(numbers)\n",
    "numbers.pop()\n",
    "print(numbers)\n",
    "print(50 in numbers)\n",
    "\n",
    "numbers.sort()\n",
    "print(numbers)\n",
    "\n",
    "numbers.pop()\n",
    "print(numbers)\n",
    "\n",
    "numbers.clear()\n",
    "print(numbers)\n"
   ]
  },
  {
   "cell_type": "code",
   "execution_count": 18,
   "id": "5f9cb413",
   "metadata": {},
   "outputs": [
    {
     "name": "stdout",
     "output_type": "stream",
     "text": [
      "[1, 5, 2]\n"
     ]
    }
   ],
   "source": [
    "numbers=[1,5,2,20]\n",
    "numbers.pop()\n",
    "print(numbers)"
   ]
  },
  {
   "cell_type": "code",
   "execution_count": null,
   "id": "1629df83",
   "metadata": {},
   "outputs": [],
   "source": []
  }
 ],
 "metadata": {
  "kernelspec": {
   "display_name": "Python 3 (ipykernel)",
   "language": "python",
   "name": "python3"
  },
  "language_info": {
   "codemirror_mode": {
    "name": "ipython",
    "version": 3
   },
   "file_extension": ".py",
   "mimetype": "text/x-python",
   "name": "python",
   "nbconvert_exporter": "python",
   "pygments_lexer": "ipython3",
   "version": "3.9.13"
  }
 },
 "nbformat": 4,
 "nbformat_minor": 5
}
