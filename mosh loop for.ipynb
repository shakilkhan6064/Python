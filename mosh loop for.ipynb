{
 "cells": [
  {
   "cell_type": "code",
   "execution_count": 1,
   "id": "8619cba8",
   "metadata": {},
   "outputs": [
    {
     "name": "stdout",
     "output_type": "stream",
     "text": [
      "p\n",
      "y\n",
      "t\n",
      "h\n",
      "o\n",
      "n\n"
     ]
    }
   ],
   "source": [
    "for iteam in 'python':\n",
    "    print(iteam)"
   ]
  },
  {
   "cell_type": "code",
   "execution_count": 2,
   "id": "571cd41b",
   "metadata": {},
   "outputs": [
    {
     "name": "stdout",
     "output_type": "stream",
     "text": [
      "pyhton\n",
      "shakil\n",
      "love\n",
      "cumha\n"
     ]
    }
   ],
   "source": [
    "for iteam in ['pyhton','shakil','love','cumha']:\n",
    "    print(iteam)"
   ]
  },
  {
   "cell_type": "code",
   "execution_count": 3,
   "id": "7e6c5ff5",
   "metadata": {},
   "outputs": [
    {
     "name": "stdout",
     "output_type": "stream",
     "text": [
      "1\n",
      "2\n",
      "3\n",
      "4\n"
     ]
    }
   ],
   "source": [
    "for iteam in ['1','2','3','4']:\n",
    "    print(iteam)"
   ]
  },
  {
   "cell_type": "code",
   "execution_count": 4,
   "id": "1c853c46",
   "metadata": {},
   "outputs": [
    {
     "name": "stdout",
     "output_type": "stream",
     "text": [
      "0\n",
      "1\n",
      "2\n",
      "3\n",
      "4\n",
      "5\n",
      "6\n",
      "7\n",
      "8\n",
      "9\n"
     ]
    }
   ],
   "source": [
    "for i in range(10):\n",
    "    print(i)"
   ]
  },
  {
   "cell_type": "code",
   "execution_count": 18,
   "id": "4ee90027",
   "metadata": {},
   "outputs": [
    {
     "name": "stdout",
     "output_type": "stream",
     "text": [
      "total 60\n"
     ]
    }
   ],
   "source": [
    "prices = [10,20,30]\n",
    "total = 0\n",
    "for price in prices:\n",
    "    total += price\n",
    "print(f\"total {total}\")"
   ]
  },
  {
   "cell_type": "markdown",
   "id": "acc8315f",
   "metadata": {},
   "source": [
    "# nested loop"
   ]
  },
  {
   "cell_type": "code",
   "execution_count": 22,
   "id": "fbaad91a",
   "metadata": {},
   "outputs": [
    {
     "name": "stdout",
     "output_type": "stream",
     "text": [
      "(0,0)\n",
      "(0,1)\n",
      "(0,2)\n",
      "(0,3)\n",
      "(1,0)\n",
      "(1,1)\n",
      "(1,2)\n",
      "(1,3)\n",
      "(2,0)\n",
      "(2,1)\n",
      "(2,2)\n",
      "(2,3)\n",
      "(3,0)\n",
      "(3,1)\n",
      "(3,2)\n",
      "(3,3)\n"
     ]
    }
   ],
   "source": [
    "for x in range(4):\n",
    "    for y in range(4):\n",
    "        print(f'({x},{y})')"
   ]
  },
  {
   "cell_type": "code",
   "execution_count": null,
   "id": "2b8a58c8",
   "metadata": {},
   "outputs": [],
   "source": []
  }
 ],
 "metadata": {
  "kernelspec": {
   "display_name": "Python 3 (ipykernel)",
   "language": "python",
   "name": "python3"
  },
  "language_info": {
   "codemirror_mode": {
    "name": "ipython",
    "version": 3
   },
   "file_extension": ".py",
   "mimetype": "text/x-python",
   "name": "python",
   "nbconvert_exporter": "python",
   "pygments_lexer": "ipython3",
   "version": "3.9.13"
  }
 },
 "nbformat": 4,
 "nbformat_minor": 5
}
